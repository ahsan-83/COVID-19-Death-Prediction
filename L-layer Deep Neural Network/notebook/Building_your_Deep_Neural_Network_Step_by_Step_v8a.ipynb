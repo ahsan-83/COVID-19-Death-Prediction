{
  "cells": [
    {
      "cell_type": "markdown",
      "metadata": {
        "id": "xNjuRYJVuyjf"
      },
      "source": [
        "# **L-layer Deep Neural Network : Cat Image Classification**\n",
        "\n",
        "<img src=\"https://raw.githubusercontent.com/ahsan-83/Machine-Learning-Projects/main/L-layer%20Deep%20Neural%20Network/images/deep_neural_network.jpg\" width=\"800\"/>\n",
        "\n",
        "---\n",
        "\n",
        "# **Introduction**\n",
        "\n",
        "L-layer Deep Neural Netrwork Logistic Regression Model is developed from scratch with python for Cat vs non-cat image classification.\n",
        "\n",
        "## Notebook Contents\n",
        "\n",
        "- [Packages](#section1)\n",
        "- [L-layer Deep Neural Network Model Architecture](#section2)\n",
        "- [L-layer Deep Neural Network Model Implementation](#section3)\n",
        "- [Cat Image Dataset](#section4)\n",
        "- [Model Training](#section5)\n",
        "- [Model Evaluation](#section6)\n",
        "\n",
        "**Notation**:\n",
        "- Superscript $[l]$ denotes a quantity associated with the $l^{th}$ layer. \n",
        "    - Example: $a^{[L]}$ is the $L^{th}$ layer activation. $W^{[L]}$ and $b^{[L]}$ are the $L^{th}$ layer parameters.\n",
        "- Superscript $(i)$ denotes a quantity associated with the $i^{th}$ example. \n",
        "    - Example: $x^{(i)}$ is the $i^{th}$ training example.\n",
        "- Lowerscript $i$ denotes the $i^{th}$ entry of a vector.\n",
        "    - Example: $a^{[l]}_i$ denotes the $i^{th}$ entry of the $l^{th}$ layer's activations)."
      ]
    },
    {
      "cell_type": "markdown",
      "metadata": {
        "id": "JjR4noqouyjp"
      },
      "source": [
        "<a name='section1'></a>\n",
        "#Packages\n",
        " \n",
        "- [numpy](www.numpy.org) is the fundamental package for scientific computing with Python.\n",
        "- [matplotlib](http://matplotlib.org) is a library to plot graphs in Python.\n",
        "- [h5py](http://www.h5py.org/) is a common package to interact with a dataset that is stored on an H5 file."
      ]
    },
    {
      "cell_type": "code",
      "execution_count": 106,
      "metadata": {
        "id": "usg2aUICuyjq",
        "colab": {
          "base_uri": "https://localhost:8080/"
        },
        "outputId": "b5115a86-1739-4932-987f-9ffc32fc2823"
      },
      "outputs": [
        {
          "output_type": "stream",
          "name": "stdout",
          "text": [
            "The autoreload extension is already loaded. To reload it, use:\n",
            "  %reload_ext autoreload\n"
          ]
        }
      ],
      "source": [
        "import numpy as np\n",
        "import h5py\n",
        "import matplotlib.pyplot as plt\n",
        "\n",
        "%matplotlib inline\n",
        "plt.rcParams['figure.figsize'] = (8.0, 6.0) \n",
        "plt.rcParams['image.interpolation'] = 'nearest'\n",
        "plt.rcParams['image.cmap'] = 'gray'\n",
        "\n",
        "%load_ext autoreload\n",
        "%autoreload 2"
      ]
    },
    {
      "cell_type": "markdown",
      "metadata": {
        "id": "7Qs8rE8Puyjt"
      },
      "source": [
        "<a name='section2'></a>\n",
        "# **L-layer Deep Neural Network Model Architecture**\n",
        "\n",
        "- Initialize weight and bias parameters for $L$-layer deep neural network\n",
        "- Compute Linear Forward Activation *LINEAR->RELU* for $L-1$ layers and *LINEAR->SIGMOID* for last layer\n",
        "- Compute the loss with Binary Cross Entropy cost function\n",
        "- Compute gradients of loss function respect to parameters of hidden layers in Linear Backward Activation \n",
        "- Update hidden layer parameters for gradient descent using learning rate\n",
        "\n",
        "<img src=\"https://raw.githubusercontent.com/ahsan-83/Machine-Learning-Projects/main/L-layer%20Deep%20Neural%20Network/images/model_architecture.png\" width=\"800\">\n"
      ]
    },
    {
      "cell_type": "markdown",
      "metadata": {
        "id": "P_WfvKafuyjw"
      },
      "source": [
        "L-layer neural network parameter and activation shape in hidden layers for input $X$ as $(12288, 209)$ for $m=209$ examples\n",
        "\n",
        "<table style=\"width:100%\">\n",
        "    <tr>\n",
        "        <td>  </td> \n",
        "        <td> Shape of W </td> \n",
        "        <td> Shape of b  </td> \n",
        "        <td> Activation </td>\n",
        "        <td> Shape of Activation </td> \n",
        "    <tr>\n",
        "    <tr>\n",
        "        <td> Layer 1 </td> \n",
        "        <td> $(n^{[1]},12288)$ </td> \n",
        "        <td> $(n^{[1]},1)$ </td> \n",
        "        <td> $Z^{[1]} = W^{[1]}  X + b^{[1]} $ </td> \n",
        "        <td> $(n^{[1]},209)$ </td> \n",
        "    <tr>\n",
        "    <tr>\n",
        "        <td> Layer 2 </td> \n",
        "        <td> $(n^{[2]}, n^{[1]})$  </td> \n",
        "        <td> $(n^{[2]},1)$ </td> \n",
        "        <td>$Z^{[2]} = W^{[2]} A^{[1]} + b^{[2]}$ </td> \n",
        "        <td> $(n^{[2]}, 209)$ </td> \n",
        "    <tr>\n",
        "       <tr>\n",
        "        <td> $\\vdots$ </td> \n",
        "        <td> $\\vdots$  </td> \n",
        "        <td> $\\vdots$  </td> \n",
        "        <td> $\\vdots$</td> \n",
        "        <td> $\\vdots$  </td> \n",
        "    <tr>\n",
        "   <tr>\n",
        "        <td> Layer L-1 </td> \n",
        "        <td> $(n^{[L-1]}, n^{[L-2]})$ </td> \n",
        "        <td> $(n^{[L-1]}, 1)$  </td> \n",
        "        <td>$Z^{[L-1]} =  W^{[L-1]} A^{[L-2]} + b^{[L-1]}$ </td> \n",
        "        <td> $(n^{[L-1]}, 209)$ </td> \n",
        "    <tr>\n",
        "   <tr>\n",
        "        <td> Layer L </td> \n",
        "        <td> $(n^{[L]}, n^{[L-1]})$ </td> \n",
        "        <td> $(n^{[L]}, 1)$ </td>\n",
        "        <td> $Z^{[L]} =  W^{[L]} A^{[L-1]} + b^{[L]}$</td>\n",
        "        <td> $(n^{[L]}, 209)$  </td> \n",
        "    <tr>\n",
        "</table>"
      ]
    },
    {
      "cell_type": "markdown",
      "source": [
        "<a name='section3'></a>\n",
        "# **L-layer Deep Neural Network Model Implementation**\n",
        "\n",
        "## Initialize Parameters\n",
        "\n",
        "Parameter initialization (Weights and Biases) for L-layer neural network implemented in `initialize_parameters_deep`\n",
        "\n",
        "- Random initialization of weights using `np.random.randn(shape) * 0.01`\n",
        "- Zeros initialization of biases using `np.zeros(shape)`"
      ],
      "metadata": {
        "id": "Ixg0vdAXyb5d"
      }
    },
    {
      "cell_type": "code",
      "execution_count": 77,
      "metadata": {
        "id": "D5-vaarouyjx"
      },
      "outputs": [],
      "source": [
        "def initialize_parameters_deep(layer_dims):\n",
        "    \n",
        "    np.random.seed(3)\n",
        "    parameters = {}\n",
        "    \n",
        "    # number of layers in the network\n",
        "    layers = len(layer_dims)            \n",
        "\n",
        "    for l in range(1, layers):\n",
        "\n",
        "        # initialize weights with random value * 0.01\n",
        "        parameters['W' + str(l)] = np.random.randn(layer_dims[l],layer_dims[l-1]) * 0.01\n",
        "        \n",
        "        # initialize biases with zero\n",
        "        parameters['b' + str(l)] = np.zeros((layer_dims[l],1))\n",
        "        \n",
        "    return parameters"
      ]
    },
    {
      "cell_type": "markdown",
      "metadata": {
        "id": "NCNI_KbDuyjz"
      },
      "source": [
        "## Forward Propagation\n",
        "\n",
        "### Linear Forward \n",
        "Linear Forward computes the equation $Z^{[l]} = W^{[l]}A^{[l-1]} +b^{[l]}$ in `linear_forward` where $A^{[0]} = X$.  "
      ]
    },
    {
      "cell_type": "code",
      "execution_count": 78,
      "metadata": {
        "id": "BQIkNVt5uyjz"
      },
      "outputs": [],
      "source": [
        "def linear_forward(A, W, b):\n",
        "    \n",
        "    Z = np.dot(W,A) + b\n",
        "    cache = (A, W, b)\n",
        "    \n",
        "    return Z, cache"
      ]
    },
    {
      "cell_type": "markdown",
      "metadata": {
        "id": "XYxzEO8Buyj0"
      },
      "source": [
        "### Linear Activation Forward\n",
        "\n",
        "Linear Activation Forwad computes activation function of Linear Forward in *LINEAR->ACTIVATION* layer <br/><br/> $$A^{[l]} = g(Z^{[l]}) = g(W^{[l]}A^{[l-1]} +b^{[l]})$$\n",
        "\n",
        "Two activation functions are implemented\n",
        "\n",
        "- **Sigmoid**: $\\sigma(Z) = \\sigma(W A + b) = \\frac{1}{ 1 + e^{-(W A + b)}}$. \n",
        "``` python\n",
        "A, cache = sigmoid(Z)\n",
        "```\n",
        "\n",
        "- **ReLU**: $A = RELU(Z) = max(0, Z)$. \n",
        "``` python\n",
        "A, cache = relu(Z)\n",
        "```"
      ]
    },
    {
      "cell_type": "code",
      "execution_count": 79,
      "metadata": {
        "id": "cCbHFWhTuyj0"
      },
      "outputs": [],
      "source": [
        "def sigmoid(Z):\n",
        "    \n",
        "    A = 1/(1+np.exp(-Z))\n",
        "    cache = Z\n",
        "    \n",
        "    return A, cache\n",
        "    \n",
        "def relu(Z):\n",
        "    \n",
        "    A = np.maximum(0,Z)    \n",
        "    cache = Z \n",
        "    \n",
        "    return A, cache\n",
        "\n",
        "def linear_activation_forward(A_prev, W, b, activation):\n",
        "    \n",
        "    # compute linear forward \n",
        "    Z, linear_cache = linear_forward(A_prev, W, b)\n",
        "    \n",
        "    # compute linear forward activation based on activation function sigmoid or relu\n",
        "    if activation == \"sigmoid\":\n",
        "        A, activation_cache = sigmoid(Z)\n",
        "    \n",
        "    elif activation == \"relu\":\n",
        "        A, activation_cache = relu(Z) \n",
        "    \n",
        "    cache = (linear_cache, activation_cache)\n",
        "\n",
        "    return A, cache"
      ]
    },
    {
      "cell_type": "markdown",
      "metadata": {
        "id": "2khnsh6cuyj1"
      },
      "source": [
        "### L-layer Model Forward\n",
        "\n",
        "L-layer Model Forward Propagation involves *LINEAR->RELU* activation in  $L-1$ layers and *LINEAR->SIGMOID* activation in last layer as implemented in `L_model_forward`\n",
        "\n",
        "Forward Propagation prediction output $\\hat{Y}$ is denoted as **`AL`** $A^{[L]} = \\sigma(Z^{[L]}) = \\sigma(W^{[L]} A^{[L-1]} + b^{[L]})$\n",
        "\n",
        "<img src=\"https://raw.githubusercontent.com/ahsan-83/Machine-Learning-Projects/main/L-layer%20Deep%20Neural%20Network/images/forward_propagation.png\" width=\"800\">"
      ]
    },
    {
      "cell_type": "code",
      "execution_count": 84,
      "metadata": {
        "id": "zvkY9mCfuyj2"
      },
      "outputs": [],
      "source": [
        "def L_model_forward(X, parameters):\n",
        "  \n",
        "    caches = []\n",
        "    A = X\n",
        "    \n",
        "    # number of layers in neural network\n",
        "    layers = len(parameters) // 2                 \n",
        "    \n",
        "    # Compute [LINEAR -> RELU] for L-1 layers\n",
        "    for l in range(1, layers):\n",
        "        \n",
        "        A_prev = A \n",
        "        A, cache = linear_activation_forward(A_prev, parameters['W' + str(l)], parameters['b' + str(l)], activation = \"relu\")\n",
        "        caches.append(cache)\n",
        "    \n",
        "    # Compute LINEAR -> SIGMOID for last layer\n",
        "    AL, cache = linear_activation_forward(A, parameters['W' + str(layers)], parameters['b' + str(layers)], activation = \"sigmoid\")\n",
        "    caches.append(cache)\n",
        "\n",
        "    return AL, caches"
      ]
    },
    {
      "cell_type": "markdown",
      "metadata": {
        "id": "W3Z5WExcuyj3"
      },
      "source": [
        "## Cost Function\n",
        "\n",
        "Forward Propagation prediction output is evaluated using binary cross entropy cost function formula as implemented in `compute_cost`\n",
        "\n",
        "$$ J = -\\frac{1}{m} \\sum\\limits_{i = 1}^{m} (y^{(i)}\\log\\left(a^{[L] (i)}\\right) + (1-y^{(i)})\\log\\left(1- a^{[L](i)}\\right))$$"
      ]
    },
    {
      "cell_type": "code",
      "execution_count": 85,
      "metadata": {
        "id": "oaMKgWQzuyj3"
      },
      "outputs": [],
      "source": [
        "def compute_cost(AL, Y):\n",
        "    \n",
        "    # training dataset count\n",
        "    m = Y.shape[1]\n",
        "\n",
        "    # compute binary cross entropy cost from forward propagation output AL and actual result Y\n",
        "    cost = (1./m) * (-np.dot(Y, np.log(AL).T) - np.dot((1-Y), np.log(1-AL).T))\n",
        "    \n",
        "    cost = np.squeeze(cost) \n",
        "    \n",
        "    return cost"
      ]
    },
    {
      "cell_type": "markdown",
      "metadata": {
        "id": "wzoUh5gduyj3"
      },
      "source": [
        "## Backward Propagation\n",
        "\n",
        "Backward Propagation computes gradients of the loss function with respect to the parameters. \n",
        "\n",
        "<img src=\"https://raw.githubusercontent.com/ahsan-83/Machine-Learning-Projects/main/L-layer%20Deep%20Neural%20Network/images/backward_propagation.png\" width=\"700\">"
      ]
    },
    {
      "cell_type": "markdown",
      "metadata": {
        "id": "hIqAGPHcuyj4"
      },
      "source": [
        "### Linear Backward\n",
        "\n",
        "Linear Backward computes  $dW^{[l]}, db^{[l]}, dA^{[l-1]}$ from Linear Forward equation $Z^{[l]} = W^{[l]} A^{[l-1]} + b^{[l]}$ <br/> assuming $dZ^{[l]} = \\frac{\\partial \\mathcal{L} }{\\partial Z^{[l]}}$ is already computed for layer $l$\n",
        "\n",
        "<img src=\"https://raw.githubusercontent.com/ahsan-83/Machine-Learning-Projects/main/L-layer%20Deep%20Neural%20Network/images/linear_backward_propagation.png\" width=\"400\">\n",
        "\n",
        "$$ dW^{[l]} = \\frac{\\partial \\mathcal{J} }{\\partial W^{[l]}} = \\frac{1}{m} dZ^{[l]} A^{[l-1] T}$$\n",
        "$$ db^{[l]} = \\frac{\\partial \\mathcal{J} }{\\partial b^{[l]}} = \\frac{1}{m} \\sum_{i = 1}^{m} dZ^{[l](i)}$$\n",
        "$$ dA^{[l-1]} = \\frac{\\partial \\mathcal{L} }{\\partial A^{[l-1]}} = W^{[l] T} dZ^{[l]}$$\n"
      ]
    },
    {
      "cell_type": "code",
      "execution_count": 86,
      "metadata": {
        "id": "fWHQzP6muyj4"
      },
      "outputs": [],
      "source": [
        "def linear_backward(dZ, cache):\n",
        "    \n",
        "    # previous layer activation, current layer weight and bias restore from cache\n",
        "    A_prev, W, b = cache\n",
        "\n",
        "    # training dataset count\n",
        "    m = A_prev.shape[1]\n",
        "\n",
        "    # compute weight, bias and previous layer activation gradient according to equations\n",
        "    dW = 1./m * np.dot(dZ,A_prev.T)\n",
        "    db = 1./m * np.sum(dZ, axis = 1, keepdims = True)\n",
        "    dA_prev = np.dot(W.T,dZ)\n",
        "    \n",
        "    return dA_prev, dW, db"
      ]
    },
    {
      "cell_type": "markdown",
      "metadata": {
        "id": "V48Naxm-uyj5"
      },
      "source": [
        "### Linear Activation Backward\n",
        "\n",
        "Linear Activation Backward computes gradient $dZ^{[l]} = \\frac{\\partial \\mathcal{L} }{\\partial Z^{[l]}} = dA^{[l]} * g'(Z^{[l]})$ from Linear Activation Forward equarion $A^{[l]} = g(Z^{[l]})$\n",
        "\n",
        "Gradient $dZ^{[l]}$ computed for different activation function is used to get $dW^{[l]}, db^{[l]}, dA^{[l-1]}$ from `linear_backward` function\n",
        "\n",
        "**`sigmoid_backward`** and **`relu_backward`** computes $dZ^{[l]}$ for Sigmoid and RELU activation function"
      ]
    },
    {
      "cell_type": "code",
      "execution_count": 87,
      "metadata": {
        "id": "zBCrlzeDuyj5"
      },
      "outputs": [],
      "source": [
        "def relu_backward(dA, cache):\n",
        "    \n",
        "    Z = cache\n",
        "    dZ = np.array(dA, copy=True)\n",
        "    \n",
        "    # dZ = 0 when Z <= 0 \n",
        "    dZ[Z <= 0] = 0\n",
        "    \n",
        "    return dZ\n",
        "\n",
        "def sigmoid_backward(dA, cache):\n",
        "  \n",
        "    Z = cache\n",
        "    \n",
        "    s = 1/(1+np.exp(-Z))\n",
        "    dZ = dA * s * (1-s)\n",
        "    \n",
        "    return dZ\n",
        "\n",
        "def linear_activation_backward(dA, cache, activation):\n",
        "    \n",
        "    linear_cache, activation_cache = cache\n",
        "    \n",
        "    # compute gradient dZ based on activation function\n",
        "    if activation == \"relu\":\n",
        "        dZ = relu_backward(dA, activation_cache)\n",
        "        \n",
        "    elif activation == \"sigmoid\":\n",
        "        dZ = sigmoid_backward(dA, activation_cache)\n",
        "    \n",
        "    # compute dA_prev, dW, db from linear_backward with dZ\n",
        "    dA_prev, dW, db = linear_backward(dZ, linear_cache)\n",
        "    \n",
        "    return dA_prev, dW, db"
      ]
    },
    {
      "cell_type": "markdown",
      "metadata": {
        "id": "qGH4q4Pquyj6"
      },
      "source": [
        "### L-layer Model Backward \n",
        "\n",
        "`L_model_backward` computes gradients of loss function respect to parameters in each hidden layer of deep neural network backward. \n",
        "\n",
        "<img src=\"https://raw.githubusercontent.com/ahsan-83/Machine-Learning-Projects/main/L-layer%20Deep%20Neural%20Network/images/backward_propagation_layers.png\" width=\"500\">\n",
        "\n",
        "At first, derivative of loss function respect to prediction **`dAL`** is computed with equation \n",
        "\n",
        "$$ \\frac{\\partial \\mathcal{L} }{\\partial a} = -\\frac{y}{a} + \\frac{(1-y)}{(1-a)}$$\n",
        "\n",
        "- $dW^{[L]}, db^{[L]}, dA^{[L-1]}$ are computed from **`dAL`** for *LINEAR->SIGMOID* layer using `linear_activation_backward`\n",
        "\n",
        "- $dW^{[l]}, db^{[l]}, dA^{[l-1]}$ are computed from $dA^{[l]}$ for *LINEAR->RELU* $L-1$ layers using `linear_activation_backward`"
      ]
    },
    {
      "cell_type": "code",
      "execution_count": 88,
      "metadata": {
        "id": "rkBfCCJkuyj6"
      },
      "outputs": [],
      "source": [
        "def L_model_backward(AL, Y, caches):\n",
        "\n",
        "    grads = {}\n",
        "    \n",
        "    layers = len(caches)\n",
        "\n",
        "    # training dataset count\n",
        "    m = AL.shape[1]\n",
        "    Y = Y.reshape(AL.shape)\n",
        "    \n",
        "    # compute gradient of loss function respect to prediction according to equation\n",
        "    dAL = - (np.divide(Y, AL) - np.divide(1 - Y, 1 - AL))\n",
        "    \n",
        "    # compute dA, dW, db for sigmoid activation layer and store gradients\n",
        "    current_cache = caches[layers-1] # Last Layer\n",
        "    grads[\"dA\" + str(layers-1)], grads[\"dW\" + str(layers)], grads[\"db\" + str(layers)] = linear_activation_backward(dAL, current_cache, activation = \"sigmoid\")\n",
        "    \n",
        "    # compute dA, dW, db for L-1 relu activation layers and store gradients\n",
        "    for l in reversed(range(layers-1)):\n",
        "      \n",
        "        current_cache = caches[l]\n",
        "        dA_prev_temp, dW_temp, db_temp = linear_activation_backward(grads[\"dA\" + str(l + 1)], current_cache, activation = \"relu\")\n",
        "\n",
        "        grads[\"dA\" + str(l)] = dA_prev_temp\n",
        "        grads[\"dW\" + str(l + 1)] = dW_temp\n",
        "        grads[\"db\" + str(l + 1)] = db_temp\n",
        "\n",
        "    return grads"
      ]
    },
    {
      "cell_type": "markdown",
      "metadata": {
        "id": "DM04azlouyj7"
      },
      "source": [
        "### Parameter Update\n",
        "\n",
        "Neural network parameters are updated from gradients as follows\n",
        "\n",
        "$$ W^{[l]} = W^{[l]} - \\alpha \\text{ } dW^{[l]} $$\n",
        "$$ b^{[l]} = b^{[l]} - \\alpha \\text{ } db^{[l]} $$\n",
        "\n",
        "Learning rate $\\alpha$ updates parameters $W^{[l]}$ and $b^{[l]}$ for gradient descent in every layer $l$"
      ]
    },
    {
      "cell_type": "code",
      "execution_count": 89,
      "metadata": {
        "id": "ESayD4-Xuyj7"
      },
      "outputs": [],
      "source": [
        "def update_parameters(parameters, grads, learning_rate):\n",
        "    \n",
        "    layers = len(parameters) // 2 \n",
        "\n",
        "    # update parameters in every hidden layer according to equations\n",
        "    for l in range(layers):\n",
        "        parameters[\"W\" + str(l+1)] = parameters[\"W\" + str(l+1)] - learning_rate * grads[\"dW\" + str(l+1)]\n",
        "        parameters[\"b\" + str(l+1)] = parameters[\"b\" + str(l+1)] - learning_rate * grads[\"db\" + str(l+1)]\n",
        "        \n",
        "    return parameters"
      ]
    },
    {
      "cell_type": "markdown",
      "metadata": {
        "id": "0VVfATrPuyj8"
      },
      "source": [
        "## L-layer Deep Neural Network Model \n",
        "\n",
        "Neural network model is developed by stacking above steps\n",
        "\n",
        "1. Initialize Parameters\n",
        "2. Loop for number of iterations\n",
        "  - Forward Propagation\n",
        "  - Compute Cost\n",
        "  - Backward Propagation\n",
        "  - Parameter Update\n",
        "3. Predict output with trained parameters \n",
        "\n",
        "**`L_layer_model`** trains L-layer neural network with labeled dataset (X,Y) and output hidden layer parameters"
      ]
    },
    {
      "cell_type": "code",
      "source": [
        "def L_layer_model(X, Y, layers_dims, learning_rate = 0.0075, num_iterations = 3000, print_cost=False):\n",
        "  \n",
        "    np.random.seed(42)\n",
        "\n",
        "    # store cost of each iteration \n",
        "    costs = []                       \n",
        "    \n",
        "    # initialize parameters for hidden layers\n",
        "    parameters = initialize_parameters_deep(layers_dims)\n",
        "    \n",
        "    # gradient descent iteration\n",
        "    for i in range(0, num_iterations):\n",
        "\n",
        "        # Forward propagation: [LINEAR -> RELU]*(L-1) -> LINEAR -> SIGMOID.\n",
        "        AL, caches = L_model_forward(X, parameters)\n",
        "        \n",
        "        # Compute cost using binary cross entropy loss function\n",
        "        cost = compute_cost(AL, Y)\n",
        "    \n",
        "        # Backward propagation\n",
        "        grads = L_model_backward(AL, Y, caches)\n",
        " \n",
        "        # Update parameters\n",
        "        parameters = update_parameters(parameters, grads, learning_rate)\n",
        "                \n",
        "        # store cost for every 100 iteration\n",
        "        if print_cost and i % 100 == 0:\n",
        "            print (\"Cost after iteration %i: %f\" %(i, cost))\n",
        "        \n",
        "        costs.append(cost)\n",
        "            \n",
        "    return parameters, costs"
      ],
      "metadata": {
        "id": "vdzTM9jVIKxf"
      },
      "execution_count": 98,
      "outputs": []
    },
    {
      "cell_type": "markdown",
      "source": [
        "## L-layer Deep Neural Network Model Prediction\n",
        "\n",
        "After training model with train dataset we get trained parameters for hidden layer units. <br/>\n",
        "\n",
        "Model prediction evaluated for test dataset using model parameters in `L_model_forward` as implemented in `L_layer_model_prediction`\n",
        "\n",
        "- Loss is calculated from model prediciton with `compute_cost` function\n",
        "- Accuracy is calculated from model prediciton with equation\n",
        "\n",
        "$$ Accuracy = \\frac{1}{m} \\sum\\limits_{i = 1}^{m} (\\hat Y^{(i)} == Y^{(i)})$$\n",
        "\n",
        "- Precision, Recall and F1 Score is calculated from model prediciton with equations\n",
        "\n",
        "$$ Precision = \\frac{True Positive}{(True Positive + False Positive)}$$\n",
        "<br/>\n",
        "$$ Recall = \\frac{True Positive}{(True Positive + False Negative)}$$\n",
        "<br/>\n",
        "$$ F1 Score = \\frac{2 \\times Precision \\times Recall}{(Precision + Recall)}$$\n"
      ],
      "metadata": {
        "id": "EUlvO1GmWaH4"
      }
    },
    {
      "cell_type": "code",
      "source": [
        "def L_layer_model_prediction(test_x, test_y, parameters):\n",
        "    \n",
        "    # Classification probability threshold\n",
        "    threshold = 0.5\n",
        "\n",
        "    # dataset size\n",
        "    m = test_x.shape[1]\n",
        "\n",
        "    # number of layers\n",
        "    n = len(parameters)\n",
        "\n",
        "    # test dataset model prediction array \n",
        "    prediction = np.zeros((1,m))\n",
        "    \n",
        "    # Linear Forward Propagation with trained parameters and test dataset\n",
        "    prob, caches = L_model_forward(test_x, parameters)\n",
        "\n",
        "\n",
        "    # generate binary prediction from model probability output based on threshold\n",
        "    prediction = (prob >= threshold).astype(\"int32\") \n",
        "    \n",
        "    true_positive, false_positive, true_negative, false_negative = 0, 0, 0, 0\n",
        "\n",
        "    for i in range(m):\n",
        "        if (prediction[0,i] == 1) & (test_y[0,i] == 1):\n",
        "          true_positive += 1\n",
        "        elif (prediction[0,i] == 1) & (test_y[0,i] == 0):\n",
        "          false_positive += 1\n",
        "        elif (prediction[0,i] == 0) & (test_y[0,i] == 0):\n",
        "          true_negative += 1\n",
        "        else:\n",
        "          false_negative += 1\n",
        "\n",
        "    # compute model accuracy, precision, recall and f1 score from TP, FP, TN, FN\n",
        "    accuracy = (true_positive + true_negative) / m\n",
        "    precision = true_positive / (true_positive + false_positive) \n",
        "    recall    = true_positive / (true_positive + false_negative) \n",
        "    f1_score  = (2 * precision * recall) / (precision + recall)\n",
        "\n",
        "    return prediction, accuracy, precision, recall, f1_score"
      ],
      "metadata": {
        "id": "e2RT1LZ8Y6Rl"
      },
      "execution_count": 116,
      "outputs": []
    },
    {
      "cell_type": "markdown",
      "source": [
        "<a name='section4'></a>\n",
        "# **Cat Image Dataset**\n",
        "\n",
        "\"Cat vs non-Cat\" dataset stored as `train_catvnoncat.h5` and `test_catvnoncat.h5` contains 64 x 64 dimension labelled images.\n",
        "\n",
        "Image shape : (64, 64, 3)\n",
        "\n",
        "## Load Data\n"
      ],
      "metadata": {
        "id": "Vvw5iVw8Sn65"
      }
    },
    {
      "cell_type": "code",
      "source": [
        "def load_data():\n",
        "    train_dataset = h5py.File('datasets/train_catvnoncat.h5', \"r\")\n",
        "    train_set_x_orig = np.array(train_dataset[\"train_set_x\"][:]) \n",
        "    train_set_y_orig = np.array(train_dataset[\"train_set_y\"][:]) \n",
        "\n",
        "    test_dataset = h5py.File('datasets/test_catvnoncat.h5', \"r\")\n",
        "    test_set_x_orig = np.array(test_dataset[\"test_set_x\"][:]) \n",
        "    test_set_y_orig = np.array(test_dataset[\"test_set_y\"][:]) \n",
        "\n",
        "    classes = np.array(test_dataset[\"list_classes\"][:]) \n",
        "    \n",
        "    train_set_y_orig = train_set_y_orig.reshape((1, train_set_y_orig.shape[0]))\n",
        "    test_set_y_orig = test_set_y_orig.reshape((1, test_set_y_orig.shape[0]))\n",
        "    \n",
        "    return train_set_x_orig, train_set_y_orig, test_set_x_orig, test_set_y_orig, classes"
      ],
      "metadata": {
        "id": "g523NANmVsOZ"
      },
      "execution_count": 91,
      "outputs": []
    },
    {
      "cell_type": "code",
      "source": [
        "train_x_orig, train_y, test_x_orig, test_y, classes = load_data()\n",
        "\n",
        "\n",
        "print (\"Number of training examples: \" + str(train_x_orig.shape[0]))\n",
        "print (\"Number of testing examples: \" + str(test_x_orig.shape[0]))\n",
        "print (\"Image Shape: \" + str(train_x_orig.shape))"
      ],
      "metadata": {
        "colab": {
          "base_uri": "https://localhost:8080/"
        },
        "id": "XW8_9L7gV6Bw",
        "outputId": "b40a3fe3-1cbd-4d08-a86a-abc36e2c0930"
      },
      "execution_count": 92,
      "outputs": [
        {
          "output_type": "stream",
          "name": "stdout",
          "text": [
            "Number of training examples: 209\n",
            "Number of testing examples: 50\n",
            "Image Shape: (209, 64, 64, 3)\n"
          ]
        }
      ]
    },
    {
      "cell_type": "code",
      "source": [
        "index = 25\n",
        "plt.imshow(train_x_orig[index])"
      ],
      "metadata": {
        "colab": {
          "base_uri": "https://localhost:8080/",
          "height": 285
        },
        "id": "4s0kPVpDX6mT",
        "outputId": "b568f4e3-b7e9-4fff-bea1-d351d0efefa2"
      },
      "execution_count": null,
      "outputs": [
        {
          "output_type": "execute_result",
          "data": {
            "text/plain": [
              "<matplotlib.image.AxesImage at 0x7fa8e512fa60>"
            ]
          },
          "metadata": {},
          "execution_count": 69
        },
        {
          "output_type": "display_data",
          "data": {
            "text/plain": [
              "<Figure size 360x288 with 1 Axes>"
            ],
            "image/png": "[encoded data removed]"
          },
          "metadata": {
            "needs_background": "light"
          }
        }
      ]
    },
    {
      "cell_type": "markdown",
      "source": [
        "Reshape train and test image dataset before training model\n",
        "\n",
        "<img src=\"https://raw.githubusercontent.com/ahsan-83/Machine-Learning-Projects/main/L-layer%20Deep%20Neural%20Network/images/cat_image_reshape.png\"/>"
      ],
      "metadata": {
        "id": "iJ-SQGhtYTLc"
      }
    },
    {
      "cell_type": "code",
      "source": [
        "train_x_flatten = train_x_orig.reshape(train_x_orig.shape[0], -1).T\n",
        "test_x_flatten = test_x_orig.reshape(test_x_orig.shape[0], -1).T"
      ],
      "metadata": {
        "id": "_A3vya5mYiqe"
      },
      "execution_count": 93,
      "outputs": []
    },
    {
      "cell_type": "markdown",
      "source": [
        "Normalize image data to have feature values in range [0,1]"
      ],
      "metadata": {
        "id": "MFOCJxQNYoxx"
      }
    },
    {
      "cell_type": "code",
      "source": [
        "train_x = train_x_flatten/255.\n",
        "test_x = test_x_flatten/255.\n",
        "\n",
        "print (\"train_x's shape: \" + str(train_x.shape))\n",
        "print (\"test_x's shape: \" + str(test_x.shape))"
      ],
      "metadata": {
        "colab": {
          "base_uri": "https://localhost:8080/"
        },
        "id": "Ap9fQ21JY8CN",
        "outputId": "2702ce1a-78fc-4b49-c2bb-00fefa524460"
      },
      "execution_count": 94,
      "outputs": [
        {
          "output_type": "stream",
          "name": "stdout",
          "text": [
            "train_x's shape: (12288, 209)\n",
            "test_x's shape: (12288, 50)\n"
          ]
        }
      ]
    },
    {
      "cell_type": "markdown",
      "source": [
        "<a name='section5'></a>\n",
        "# **Model Training**\n",
        "\n",
        "L-layer Deep Neural Network Logistic Regression Model contains multiple layers for Cat Image Classification.\n",
        "\n",
        "Model contains 3 hidden layers with [20, 7, 5] units, input layer with 12288 units as flattened image size and output layer with 1 unit.\n",
        "\n",
        "- Learning Rate = 0.0075\n",
        "- Optimization Algo = Gradient Discent\n",
        "- Loss = Binary Crossentropy\n",
        "- Model Training Iteration = 3000\n"
      ],
      "metadata": {
        "id": "dr0vYLSTZOoS"
      }
    },
    {
      "cell_type": "code",
      "source": [
        "layers_dims = [12288, 20, 7, 5, 1]\n",
        "learning_rate = 0.0075\n",
        "\n",
        "parameters, costs = L_layer_model(train_x, train_y, layers_dims, learning_rate = learning_rate, num_iterations = 3000)\n",
        "print('Model Training Complete')\n"
      ],
      "metadata": {
        "id": "FaDNNQ0ejQpd",
        "colab": {
          "base_uri": "https://localhost:8080/"
        },
        "outputId": "2033c194-4a3f-4421-fa28-ed4a129a515d"
      },
      "execution_count": 110,
      "outputs": [
        {
          "output_type": "stream",
          "name": "stdout",
          "text": [
            "Model Training Complete\n"
          ]
        }
      ]
    },
    {
      "cell_type": "markdown",
      "source": [
        "### Model Training Accuracy and Loss\n",
        "\n",
        "Training accuracy and loss of L-layer deep neural network model"
      ],
      "metadata": {
        "id": "G6bIusMrV87l"
      }
    },
    {
      "cell_type": "code",
      "source": [
        "_, accuracy, _, _, _ = L_layer_model_prediction(train_x, train_y, parameters)\n",
        "print('Model training accuracy : ', accuracy * 100)\n",
        "\n",
        "# plot loss of the model for train dataset\n",
        "plt.plot(np.squeeze(costs))\n",
        "plt.ylabel('loss')\n",
        "plt.xlabel('iterations (per hundreds)')\n",
        "plt.title(\"Model train dataset loss\")\n",
        "plt.show()\n",
        "\n"
      ],
      "metadata": {
        "id": "zqfNdqtFWkQe",
        "colab": {
          "base_uri": "https://localhost:8080/",
          "height": 421
        },
        "outputId": "e8ca710a-1c11-43f4-c834-0c16b58300b1"
      },
      "execution_count": 112,
      "outputs": [
        {
          "output_type": "stream",
          "name": "stdout",
          "text": [
            "Model training accuracy :  99.04306220095694\n"
          ]
        },
        {
          "output_type": "display_data",
          "data": {
            "text/plain": [
              "<Figure size 576x432 with 1 Axes>"
            ],
            "image/png": "[encoded data removed]"
          },
          "metadata": {
            "needs_background": "light"
          }
        }
      ]
    },
    {
      "cell_type": "markdown",
      "source": [
        "<a name='section6'></a>\n",
        "# **Model Evaluation**\n",
        "\n",
        "Cat vs non-cat classification model is evaluated by computing Accuracy, Precision, Recall, F1 Score for test dataset from `L_layer_model_prediction`"
      ],
      "metadata": {
        "id": "6ST9G-ob7ixk"
      }
    },
    {
      "cell_type": "code",
      "source": [
        "_, test_accuracy, test_precision, test_recall, test_f1_score = L_layer_model_prediction(test_x, test_y, parameters)\n",
        "\n",
        "print('Model Test Accuracy : ', test_accuracy * 100)\n",
        "print('Model Test Precision : ', test_precision)\n",
        "print('Model Test Recall : ', test_recall)\n",
        "print('Model Test F1 Score : ', test_f1_score * 100)\n"
      ],
      "metadata": {
        "colab": {
          "base_uri": "https://localhost:8080/"
        },
        "id": "llyaTuPi8Dtw",
        "outputId": "7c59d8fc-c959-4919-f6ed-4b9fcaadd2e9"
      },
      "execution_count": 117,
      "outputs": [
        {
          "output_type": "stream",
          "name": "stdout",
          "text": [
            "Model Test Accuracy :  82.0\n",
            "Model Test Precision :  0.8157894736842105\n",
            "Model Test Recall :  0.9393939393939394\n",
            "Model Test F1 Score :  87.32394366197182\n"
          ]
        }
      ]
    },
    {
      "cell_type": "markdown",
      "source": [
        "Cat vs non-cat classification model achieved 82% accuracy and 0.87 F1 Score"
      ],
      "metadata": {
        "id": "Y4JWlrTO_afQ"
      }
    }
  ],
  "metadata": {
    "coursera": {
      "course_slug": "neural-networks-deep-learning",
      "graded_item_id": "c4HO0",
      "launcher_item_id": "lSYZM"
    },
    "kernelspec": {
      "display_name": "Python 3",
      "language": "python",
      "name": "python3"
    },
    "language_info": {
      "codemirror_mode": {
        "name": "ipython",
        "version": 3
      },
      "file_extension": ".py",
      "mimetype": "text/x-python",
      "name": "python",
      "nbconvert_exporter": "python",
      "pygments_lexer": "ipython3",
      "version": "3.8.5"
    },
    "varInspector": {
      "cols": {
        "lenName": 16,
        "lenType": 16,
        "lenVar": 40
      },
      "kernels_config": {
        "python": {
          "delete_cmd_postfix": "",
          "delete_cmd_prefix": "del ",
          "library": "var_list.py",
          "varRefreshCmd": "print(var_dic_list())"
        },
        "r": {
          "delete_cmd_postfix": ") ",
          "delete_cmd_prefix": "rm(",
          "library": "var_list.r",
          "varRefreshCmd": "cat(var_dic_list()) "
        }
      },
      "types_to_exclude": [
        "module",
        "function",
        "builtin_function_or_method",
        "instance",
        "_Feature"
      ],
      "window_display": false
    },
    "colab": {
      "provenance": []
    }
  },
  "nbformat": 4,
  "nbformat_minor": 0
}